{
 "cells": [
  {
   "cell_type": "code",
   "execution_count": 1,
   "metadata": {},
   "outputs": [],
   "source": [
    "import matplotlib.pyplot as plt\n",
    "import numpy as np\n",
    "import pandas as pd\n",
    "import csv"
   ]
  },
  {
   "cell_type": "code",
   "execution_count": 6,
   "metadata": {},
   "outputs": [],
   "source": [
    "import nbimporter\n",
    "import functions as F"
   ]
  },
  {
   "cell_type": "code",
   "execution_count": 16,
   "metadata": {},
   "outputs": [
    {
     "data": {
      "text/html": [
       "<div>\n",
       "<style scoped>\n",
       "    .dataframe tbody tr th:only-of-type {\n",
       "        vertical-align: middle;\n",
       "    }\n",
       "\n",
       "    .dataframe tbody tr th {\n",
       "        vertical-align: top;\n",
       "    }\n",
       "\n",
       "    .dataframe thead th {\n",
       "        text-align: right;\n",
       "    }\n",
       "</style>\n",
       "<table border=\"1\" class=\"dataframe\">\n",
       "  <thead>\n",
       "    <tr style=\"text-align: right;\">\n",
       "      <th></th>\n",
       "      <th>iteration</th>\n",
       "      <th>session</th>\n",
       "      <th>run</th>\n",
       "      <th>obj_init</th>\n",
       "      <th>obj_found</th>\n",
       "      <th>diff_seg_reward</th>\n",
       "      <th>current_seg_reward</th>\n",
       "      <th>expected_reward</th>\n",
       "      <th>loss</th>\n",
       "    </tr>\n",
       "  </thead>\n",
       "  <tbody>\n",
       "    <tr>\n",
       "      <th>0</th>\n",
       "      <td>0</td>\n",
       "      <td>1</td>\n",
       "      <td>1</td>\n",
       "      <td>5</td>\n",
       "      <td>2</td>\n",
       "      <td>0.000000</td>\n",
       "      <td>0.029686</td>\n",
       "      <td>0.000000</td>\n",
       "      <td>0.000000</td>\n",
       "    </tr>\n",
       "    <tr>\n",
       "      <th>1</th>\n",
       "      <td>1</td>\n",
       "      <td>2</td>\n",
       "      <td>1</td>\n",
       "      <td>5</td>\n",
       "      <td>4</td>\n",
       "      <td>0.535066</td>\n",
       "      <td>0.564752</td>\n",
       "      <td>30.647367</td>\n",
       "      <td>29.556135</td>\n",
       "    </tr>\n",
       "    <tr>\n",
       "      <th>2</th>\n",
       "      <td>2</td>\n",
       "      <td>3</td>\n",
       "      <td>1</td>\n",
       "      <td>5</td>\n",
       "      <td>4</td>\n",
       "      <td>0.006566</td>\n",
       "      <td>0.571318</td>\n",
       "      <td>2.226544</td>\n",
       "      <td>1.805633</td>\n",
       "    </tr>\n",
       "    <tr>\n",
       "      <th>3</th>\n",
       "      <td>3</td>\n",
       "      <td>4</td>\n",
       "      <td>1</td>\n",
       "      <td>5</td>\n",
       "      <td>4</td>\n",
       "      <td>0.006019</td>\n",
       "      <td>0.577337</td>\n",
       "      <td>2.199116</td>\n",
       "      <td>1.657603</td>\n",
       "    </tr>\n",
       "    <tr>\n",
       "      <th>4</th>\n",
       "      <td>4</td>\n",
       "      <td>5</td>\n",
       "      <td>1</td>\n",
       "      <td>5</td>\n",
       "      <td>3</td>\n",
       "      <td>-0.255444</td>\n",
       "      <td>0.321893</td>\n",
       "      <td>-4.318513</td>\n",
       "      <td>2.745029</td>\n",
       "    </tr>\n",
       "  </tbody>\n",
       "</table>\n",
       "</div>"
      ],
      "text/plain": [
       "   iteration  session  run  obj_init  obj_found  diff_seg_reward  \\\n",
       "0          0        1    1         5          2         0.000000   \n",
       "1          1        2    1         5          4         0.535066   \n",
       "2          2        3    1         5          4         0.006566   \n",
       "3          3        4    1         5          4         0.006019   \n",
       "4          4        5    1         5          3        -0.255444   \n",
       "\n",
       "   current_seg_reward  expected_reward       loss  \n",
       "0            0.029686         0.000000   0.000000  \n",
       "1            0.564752        30.647367  29.556135  \n",
       "2            0.571318         2.226544   1.805633  \n",
       "3            0.577337         2.199116   1.657603  \n",
       "4            0.321893        -4.318513   2.745029  "
      ]
     },
     "execution_count": 16,
     "metadata": {},
     "output_type": "execute_result"
    }
   ],
   "source": [
    "root = '/home/raul/Documents/ROBOTS/evaluator-push-to-see/'\n",
    "file_name = 'training_9_1_k_iter.csv'\n",
    "\n",
    "df = pd.read_csv(root + file_name)\n",
    "df = df.fillna(0)\n",
    "\n",
    "df = df.astype({'iteration': 'int32', 'session': 'int32', 'obj_found': 'int32', 'obj_init': 'int32', 'run': 'int32'})\n",
    "\n",
    "df.head()"
   ]
  },
  {
   "cell_type": "code",
   "execution_count": 17,
   "metadata": {},
   "outputs": [
    {
     "data": {
      "text/html": [
       "<div>\n",
       "<style scoped>\n",
       "    .dataframe tbody tr th:only-of-type {\n",
       "        vertical-align: middle;\n",
       "    }\n",
       "\n",
       "    .dataframe tbody tr th {\n",
       "        vertical-align: top;\n",
       "    }\n",
       "\n",
       "    .dataframe thead th {\n",
       "        text-align: right;\n",
       "    }\n",
       "</style>\n",
       "<table border=\"1\" class=\"dataframe\">\n",
       "  <thead>\n",
       "    <tr style=\"text-align: right;\">\n",
       "      <th></th>\n",
       "      <th>iteration</th>\n",
       "      <th>session</th>\n",
       "      <th>run</th>\n",
       "      <th>obj_init</th>\n",
       "      <th>obj_found</th>\n",
       "      <th>diff_seg_reward</th>\n",
       "      <th>current_seg_reward</th>\n",
       "      <th>expected_reward</th>\n",
       "      <th>loss</th>\n",
       "    </tr>\n",
       "  </thead>\n",
       "  <tbody>\n",
       "    <tr>\n",
       "      <th>9123</th>\n",
       "      <td>9123</td>\n",
       "      <td>12</td>\n",
       "      <td>890</td>\n",
       "      <td>2</td>\n",
       "      <td>1</td>\n",
       "      <td>0.017791</td>\n",
       "      <td>0.336230</td>\n",
       "      <td>0.172091</td>\n",
       "      <td>0.005311</td>\n",
       "    </tr>\n",
       "    <tr>\n",
       "      <th>9124</th>\n",
       "      <td>9124</td>\n",
       "      <td>13</td>\n",
       "      <td>890</td>\n",
       "      <td>2</td>\n",
       "      <td>1</td>\n",
       "      <td>0.007960</td>\n",
       "      <td>0.344190</td>\n",
       "      <td>0.150515</td>\n",
       "      <td>0.007075</td>\n",
       "    </tr>\n",
       "    <tr>\n",
       "      <th>9125</th>\n",
       "      <td>9125</td>\n",
       "      <td>14</td>\n",
       "      <td>890</td>\n",
       "      <td>2</td>\n",
       "      <td>1</td>\n",
       "      <td>-0.001074</td>\n",
       "      <td>0.343116</td>\n",
       "      <td>0.128352</td>\n",
       "      <td>0.011119</td>\n",
       "    </tr>\n",
       "    <tr>\n",
       "      <th>9126</th>\n",
       "      <td>9126</td>\n",
       "      <td>0</td>\n",
       "      <td>890</td>\n",
       "      <td>2</td>\n",
       "      <td>2</td>\n",
       "      <td>0.472636</td>\n",
       "      <td>0.815753</td>\n",
       "      <td>22.456054</td>\n",
       "      <td>21.710148</td>\n",
       "    </tr>\n",
       "    <tr>\n",
       "      <th>9127</th>\n",
       "      <td>9127</td>\n",
       "      <td>0</td>\n",
       "      <td>891</td>\n",
       "      <td>2</td>\n",
       "      <td>2</td>\n",
       "      <td>0.000000</td>\n",
       "      <td>0.778502</td>\n",
       "      <td>0.000000</td>\n",
       "      <td>0.000000</td>\n",
       "    </tr>\n",
       "  </tbody>\n",
       "</table>\n",
       "</div>"
      ],
      "text/plain": [
       "      iteration  session  run  obj_init  obj_found  diff_seg_reward  \\\n",
       "9123       9123       12  890         2          1         0.017791   \n",
       "9124       9124       13  890         2          1         0.007960   \n",
       "9125       9125       14  890         2          1        -0.001074   \n",
       "9126       9126        0  890         2          2         0.472636   \n",
       "9127       9127        0  891         2          2         0.000000   \n",
       "\n",
       "      current_seg_reward  expected_reward       loss  \n",
       "9123            0.336230         0.172091   0.005311  \n",
       "9124            0.344190         0.150515   0.007075  \n",
       "9125            0.343116         0.128352   0.011119  \n",
       "9126            0.815753        22.456054  21.710148  \n",
       "9127            0.778502         0.000000   0.000000  "
      ]
     },
     "execution_count": 17,
     "metadata": {},
     "output_type": "execute_result"
    }
   ],
   "source": [
    "df.tail()"
   ]
  },
  {
   "cell_type": "code",
   "execution_count": 18,
   "metadata": {},
   "outputs": [
    {
     "data": {
      "text/plain": [
       "[<matplotlib.lines.Line2D at 0x7f0fa1bb7d90>]"
      ]
     },
     "execution_count": 18,
     "metadata": {},
     "output_type": "execute_result"
    },
    {
     "data": {
      "image/png": "[encoded data removed]",
      "text/plain": [
       "<Figure size 432x288 with 1 Axes>"
      ]
     },
     "metadata": {
      "needs_background": "light"
     },
     "output_type": "display_data"
    }
   ],
   "source": [
    "plt.plot(df['iteration'], df['loss'])"
   ]
  },
  {
   "cell_type": "code",
   "execution_count": 22,
   "metadata": {},
   "outputs": [
    {
     "data": {
      "text/plain": [
       "0        1\n",
       "1        1\n",
       "2        1\n",
       "3        1\n",
       "4        1\n",
       "        ..\n",
       "9123    90\n",
       "9124    90\n",
       "9125    90\n",
       "9126    90\n",
       "9127    90\n",
       "Name: run, Length: 9128, dtype: int32"
      ]
     },
     "execution_count": 22,
     "metadata": {},
     "output_type": "execute_result"
    }
   ],
   "source": [
    "df['run'] // 10 + 1"
   ]
  },
  {
   "cell_type": "code",
   "execution_count": 21,
   "metadata": {},
   "outputs": [
    {
     "data": {
      "text/plain": [
       "0.8737316798196166"
      ]
     },
     "execution_count": 21,
     "metadata": {},
     "output_type": "execute_result"
    }
   ],
   "source": [
    "F.success_rate(df)\n",
    "# F.avg_successful_pushes(df)\n",
    "# F.sum_mask_rewards(df)"
   ]
  },
  {
   "cell_type": "code",
   "execution_count": 41,
   "metadata": {},
   "outputs": [
    {
     "data": {
      "text/html": [
       "<div>\n",
       "<style scoped>\n",
       "    .dataframe tbody tr th:only-of-type {\n",
       "        vertical-align: middle;\n",
       "    }\n",
       "\n",
       "    .dataframe tbody tr th {\n",
       "        vertical-align: top;\n",
       "    }\n",
       "\n",
       "    .dataframe thead th {\n",
       "        text-align: right;\n",
       "    }\n",
       "</style>\n",
       "<table border=\"1\" class=\"dataframe\">\n",
       "  <thead>\n",
       "    <tr style=\"text-align: right;\">\n",
       "      <th></th>\n",
       "      <th>iteration</th>\n",
       "      <th>obj_init</th>\n",
       "    </tr>\n",
       "  </thead>\n",
       "  <tbody>\n",
       "    <tr>\n",
       "      <th>232</th>\n",
       "      <td>232</td>\n",
       "      <td>4</td>\n",
       "    </tr>\n",
       "    <tr>\n",
       "      <th>233</th>\n",
       "      <td>233</td>\n",
       "      <td>4</td>\n",
       "    </tr>\n",
       "    <tr>\n",
       "      <th>234</th>\n",
       "      <td>234</td>\n",
       "      <td>4</td>\n",
       "    </tr>\n",
       "    <tr>\n",
       "      <th>235</th>\n",
       "      <td>235</td>\n",
       "      <td>4</td>\n",
       "    </tr>\n",
       "    <tr>\n",
       "      <th>236</th>\n",
       "      <td>236</td>\n",
       "      <td>4</td>\n",
       "    </tr>\n",
       "    <tr>\n",
       "      <th>237</th>\n",
       "      <td>237</td>\n",
       "      <td>4</td>\n",
       "    </tr>\n",
       "    <tr>\n",
       "      <th>238</th>\n",
       "      <td>238</td>\n",
       "      <td>4</td>\n",
       "    </tr>\n",
       "  </tbody>\n",
       "</table>\n",
       "</div>"
      ],
      "text/plain": [
       "     iteration  obj_init\n",
       "232        232         4\n",
       "233        233         4\n",
       "234        234         4\n",
       "235        235         4\n",
       "236        236         4\n",
       "237        237         4\n",
       "238        238         4"
      ]
     },
     "execution_count": 41,
     "metadata": {},
     "output_type": "execute_result"
    }
   ],
   "source": [
    "df[df['run'] == runs[run_index]][['obj_init']]"
   ]
  },
  {
   "cell_type": "code",
   "execution_count": 28,
   "metadata": {},
   "outputs": [
    {
     "data": {
      "text/plain": [
       "[<matplotlib.lines.Line2D at 0x7fcc1de8f790>]"
      ]
     },
     "execution_count": 28,
     "metadata": {},
     "output_type": "execute_result"
    },
    {
     "data": {
      "image/png": "[encoded data removed]",
      "text/plain": [
       "<Figure size 432x288 with 1 Axes>"
      ]
     },
     "metadata": {
      "needs_background": "light"
     },
     "output_type": "display_data"
    }
   ],
   "source": [
    "plt.plot(df[df['run'] == 13]['obj_found'])"
   ]
  },
  {
   "cell_type": "code",
   "execution_count": 29,
   "metadata": {},
   "outputs": [
    {
     "data": {
      "text/html": [
       "<div>\n",
       "<style scoped>\n",
       "    .dataframe tbody tr th:only-of-type {\n",
       "        vertical-align: middle;\n",
       "    }\n",
       "\n",
       "    .dataframe tbody tr th {\n",
       "        vertical-align: top;\n",
       "    }\n",
       "\n",
       "    .dataframe thead th {\n",
       "        text-align: right;\n",
       "    }\n",
       "</style>\n",
       "<table border=\"1\" class=\"dataframe\">\n",
       "  <thead>\n",
       "    <tr style=\"text-align: right;\">\n",
       "      <th></th>\n",
       "      <th>iteration</th>\n",
       "      <th>session</th>\n",
       "      <th>run</th>\n",
       "      <th>obj_init</th>\n",
       "      <th>obj_found</th>\n",
       "      <th>diff_seg_reward</th>\n",
       "      <th>current_seg_reward</th>\n",
       "      <th>expected_reward</th>\n",
       "      <th>loss</th>\n",
       "    </tr>\n",
       "  </thead>\n",
       "  <tbody>\n",
       "    <tr>\n",
       "      <th>136</th>\n",
       "      <td>136</td>\n",
       "      <td>3</td>\n",
       "      <td>20</td>\n",
       "      <td>5</td>\n",
       "      <td>5</td>\n",
       "      <td>0.235208</td>\n",
       "      <td>0.814242</td>\n",
       "      <td>5.897827</td>\n",
       "      <td>4.593825</td>\n",
       "    </tr>\n",
       "    <tr>\n",
       "      <th>137</th>\n",
       "      <td>137</td>\n",
       "      <td>1</td>\n",
       "      <td>20</td>\n",
       "      <td>6</td>\n",
       "      <td>2</td>\n",
       "      <td>0.000000</td>\n",
       "      <td>-0.117766</td>\n",
       "      <td>0.587180</td>\n",
       "      <td>0.018938</td>\n",
       "    </tr>\n",
       "  </tbody>\n",
       "</table>\n",
       "</div>"
      ],
      "text/plain": [
       "     iteration  session  run  obj_init  obj_found  diff_seg_reward  \\\n",
       "136        136        3   20         5          5         0.235208   \n",
       "137        137        1   20         6          2         0.000000   \n",
       "\n",
       "     current_seg_reward  expected_reward      loss  \n",
       "136            0.814242         5.897827  4.593825  \n",
       "137           -0.117766         0.587180  0.018938  "
      ]
     },
     "execution_count": 29,
     "metadata": {},
     "output_type": "execute_result"
    }
   ],
   "source": [
    "df[df['run'] == runs[run_index]]"
   ]
  }
 ],
 "metadata": {
  "kernelspec": {
   "display_name": "big-data",
   "language": "python",
   "name": "big-data"
  },
  "language_info": {
   "codemirror_mode": {
    "name": "ipython",
    "version": 3
   },
   "file_extension": ".py",
   "mimetype": "text/x-python",
   "name": "python",
   "nbconvert_exporter": "python",
   "pygments_lexer": "ipython3",
   "version": "3.9.1"
  }
 },
 "nbformat": 4,
 "nbformat_minor": 4
}
