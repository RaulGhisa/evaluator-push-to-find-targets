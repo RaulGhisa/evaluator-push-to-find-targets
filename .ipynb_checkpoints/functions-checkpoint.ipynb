{
 "cells": [
  {
   "cell_type": "code",
   "execution_count": 1,
   "id": "operational-thesaurus",
   "metadata": {},
   "outputs": [],
   "source": [
    "import matplotlib.pyplot as plt\n",
    "import numpy as np\n",
    "import pandas as pd\n",
    "import csv"
   ]
  },
  {
   "cell_type": "code",
   "execution_count": 8,
   "id": "expanded-comfort",
   "metadata": {},
   "outputs": [],
   "source": [
    "def df_with_obj(df, n):\n",
    "    return df[df['obj_init'] == n]\n",
    "\n",
    "def is_successful(df, thr=30):\n",
    "    return df.shape[0] < thr\n",
    "\n",
    "def success_rate(df, thr=30):\n",
    "    suc = df[['run']].groupby(['run']).apply(lambda x: is_successful(x, thr)).sum()\n",
    "    total = pd.unique(df['run']).shape[0]\n",
    "    \n",
    "    return suc / total\n",
    "\n",
    "def avg_successful_pushes(df):\n",
    "    cnt = df.groupby(['run']).size().reset_index(name='counts')\n",
    "    cnt = cnt['counts'].sum()\n",
    "    \n",
    "    total = pd.unique(df['run']).shape[0]\n",
    "    \n",
    "    return cnt / total\n",
    "\n",
    "def sum_mask_rewards(df):\n",
    "    sm = df.groupby(['run'])    \n",
    "    sm = sm['diff_seg_reward'].sum()\n",
    "    sm = sm.sum()\n",
    "    \n",
    "    total = pd.unique(df['run']).shape[0]\n",
    "\n",
    "    return sm / total\n",
    "\n",
    "def success_rate_on_run_intervals(df, success_thr, interval):\n",
    "    df['run_interval'] = df['run'] // interval\n",
    "    temp = df.groupby(df['run_interval']).apply(lambda x: x.groupby(df['run']).apply(lambda x: is_successful(x, success_thr)).mean())\n",
    "    temp = temp.to_frame(name='success_rate').reset_index()\n",
    "    \n",
    "    return temp \n",
    "\n",
    "def target_found_per_session(df):\n",
    "    return df.loc[df['session'] != 0].groupby(df['session']).mean()\n",
    "\n",
    "\n",
    "def reward_diff_on_run_intervals(df, interval):\n",
    "    df['run_interval'] = df['run'] // interval\n",
    "    temp = df.groupby(df['run_interval']).apply(lambda x: x.groupby(df['run']).apply(lambda x: x['diff_seg_reward']).sum())\n",
    "\n",
    "    return temp\n",
    "\n",
    "def loss_on_run_intervals(df, interval):\n",
    "    df['run_interval'] = df['run'] // interval\n",
    "    temp = df.groupby(df['run_interval']).apply(lambda x: x.groupby(df['run']).apply(lambda x: x['loss']).mean())\n",
    "\n",
    "    return temp"
   ]
  },
  {
   "cell_type": "code",
   "execution_count": null,
   "id": "sustained-there",
   "metadata": {},
   "outputs": [],
   "source": []
  }
 ],
 "metadata": {
  "kernelspec": {
   "display_name": "big-data",
   "language": "python",
   "name": "big-data"
  },
  "language_info": {
   "codemirror_mode": {
    "name": "ipython",
    "version": 3
   },
   "file_extension": ".py",
   "mimetype": "text/x-python",
   "name": "python",
   "nbconvert_exporter": "python",
   "pygments_lexer": "ipython3",
   "version": "3.9.1"
  }
 },
 "nbformat": 4,
 "nbformat_minor": 5
}
