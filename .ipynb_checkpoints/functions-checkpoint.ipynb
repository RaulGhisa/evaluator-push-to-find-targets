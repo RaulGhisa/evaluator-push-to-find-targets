{
 "cells": [
  {
   "cell_type": "code",
   "execution_count": null,
   "id": "duplicate-accent",
   "metadata": {},
   "outputs": [],
   "source": [
    "def df_with_obj(df, n):\n",
    "    return df[df['obj_init'] == n]\n",
    "\n",
    "def is_successful(df, thr=30):\n",
    "    return df.shape[0] < thr\n",
    "\n",
    "def success_rate(df):\n",
    "    suc = df[['run']].groupby(['run']).apply(is_successful).sum()\n",
    "    total = pd.unique(df['run']).shape[0]\n",
    "    \n",
    "    return suc / total\n",
    "\n",
    "def avg_successful_pushes(df):\n",
    "    import pandas as pd\n",
    "    \n",
    "    cnt = df.groupby(['run']).size().reset_index(name='counts')\n",
    "    cnt = cnt['counts'].sum()\n",
    "    \n",
    "    total = pd.unique(df['run']).shape[0]\n",
    "    \n",
    "    return cnt / total\n",
    "\n",
    "def sum_mask_rewards(df):\n",
    "    sm = df.groupby(['run'])    \n",
    "    sm = sm['diff_seg_reward'].sum()\n",
    "    sm = sm.sum()\n",
    "    \n",
    "    total = pd.unique(df['run']).shape[0]\n",
    "\n",
    "    return sm / total\n",
    "\n",
    "df = df_with_obj(dfs[0], 3)\n",
    "\n",
    "# success_rate(df)\n",
    "avg_successful_pushes(df)\n",
    "# sum_mask_rewards(df)"
   ]
  }
 ],
 "metadata": {
  "kernelspec": {
   "display_name": "big-data",
   "language": "python",
   "name": "big-data"
  },
  "language_info": {
   "codemirror_mode": {
    "name": "ipython",
    "version": 3
   },
   "file_extension": ".py",
   "mimetype": "text/x-python",
   "name": "python",
   "nbconvert_exporter": "python",
   "pygments_lexer": "ipython3",
   "version": "3.9.1"
  }
 },
 "nbformat": 4,
 "nbformat_minor": 5
}
