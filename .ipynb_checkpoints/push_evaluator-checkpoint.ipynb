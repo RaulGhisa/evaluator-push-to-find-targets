{
 "cells": [
  {
   "cell_type": "code",
   "execution_count": 1,
   "metadata": {},
   "outputs": [],
   "source": [
    "import matplotlib.pyplot as plt\n",
    "import numpy as np\n",
    "import pandas as pd\n",
    "import csv"
   ]
  },
  {
   "cell_type": "code",
   "execution_count": 2,
   "metadata": {},
   "outputs": [],
   "source": [
    "import nbimporter\n",
    "import functions as F"
   ]
  },
  {
   "cell_type": "code",
   "execution_count": 3,
   "metadata": {},
   "outputs": [
    {
     "data": {
      "text/html": [
       "<div>\n",
       "<style scoped>\n",
       "    .dataframe tbody tr th:only-of-type {\n",
       "        vertical-align: middle;\n",
       "    }\n",
       "\n",
       "    .dataframe tbody tr th {\n",
       "        vertical-align: top;\n",
       "    }\n",
       "\n",
       "    .dataframe thead th {\n",
       "        text-align: right;\n",
       "    }\n",
       "</style>\n",
       "<table border=\"1\" class=\"dataframe\">\n",
       "  <thead>\n",
       "    <tr style=\"text-align: right;\">\n",
       "      <th></th>\n",
       "      <th>iteration</th>\n",
       "      <th>session</th>\n",
       "      <th>run</th>\n",
       "      <th>obj_init</th>\n",
       "      <th>obj_found</th>\n",
       "      <th>diff_seg_reward</th>\n",
       "      <th>current_seg_reward</th>\n",
       "      <th>expected_reward</th>\n",
       "      <th>loss</th>\n",
       "    </tr>\n",
       "  </thead>\n",
       "  <tbody>\n",
       "    <tr>\n",
       "      <th>0</th>\n",
       "      <td>0</td>\n",
       "      <td>1</td>\n",
       "      <td>1</td>\n",
       "      <td>5</td>\n",
       "      <td>1</td>\n",
       "      <td>0.000000</td>\n",
       "      <td>-0.217289</td>\n",
       "      <td>0.000000</td>\n",
       "      <td>0.000000</td>\n",
       "    </tr>\n",
       "    <tr>\n",
       "      <th>1</th>\n",
       "      <td>1</td>\n",
       "      <td>2</td>\n",
       "      <td>1</td>\n",
       "      <td>5</td>\n",
       "      <td>3</td>\n",
       "      <td>0.508347</td>\n",
       "      <td>0.291058</td>\n",
       "      <td>26.122318</td>\n",
       "      <td>24.941685</td>\n",
       "    </tr>\n",
       "    <tr>\n",
       "      <th>2</th>\n",
       "      <td>2</td>\n",
       "      <td>3</td>\n",
       "      <td>1</td>\n",
       "      <td>5</td>\n",
       "      <td>2</td>\n",
       "      <td>-0.247756</td>\n",
       "      <td>0.043303</td>\n",
       "      <td>-5.810069</td>\n",
       "      <td>5.876385</td>\n",
       "    </tr>\n",
       "    <tr>\n",
       "      <th>3</th>\n",
       "      <td>3</td>\n",
       "      <td>4</td>\n",
       "      <td>1</td>\n",
       "      <td>5</td>\n",
       "      <td>2</td>\n",
       "      <td>-0.004707</td>\n",
       "      <td>0.038596</td>\n",
       "      <td>0.313395</td>\n",
       "      <td>0.055030</td>\n",
       "    </tr>\n",
       "    <tr>\n",
       "      <th>4</th>\n",
       "      <td>4</td>\n",
       "      <td>5</td>\n",
       "      <td>1</td>\n",
       "      <td>5</td>\n",
       "      <td>2</td>\n",
       "      <td>0.013549</td>\n",
       "      <td>0.052144</td>\n",
       "      <td>0.212393</td>\n",
       "      <td>0.078423</td>\n",
       "    </tr>\n",
       "  </tbody>\n",
       "</table>\n",
       "</div>"
      ],
      "text/plain": [
       "   iteration  session  run  obj_init  obj_found  diff_seg_reward  \\\n",
       "0          0        1    1         5          1         0.000000   \n",
       "1          1        2    1         5          3         0.508347   \n",
       "2          2        3    1         5          2        -0.247756   \n",
       "3          3        4    1         5          2        -0.004707   \n",
       "4          4        5    1         5          2         0.013549   \n",
       "\n",
       "   current_seg_reward  expected_reward       loss  \n",
       "0           -0.217289         0.000000   0.000000  \n",
       "1            0.291058        26.122318  24.941685  \n",
       "2            0.043303        -5.810069   5.876385  \n",
       "3            0.038596         0.313395   0.055030  \n",
       "4            0.052144         0.212393   0.078423  "
      ]
     },
     "execution_count": 3,
     "metadata": {},
     "output_type": "execute_result"
    }
   ],
   "source": [
    "root = '/home/raul/Documents/ROBOTS/evaluator-push-to-see/'\n",
    "# root = '/home/raul/Documents/ROBOTS/push-to-see/logs/2021-09-07.16:39:18/'\n",
    "\n",
    "file_name = 'training_9_1_k_iter.csv'\n",
    "# file_name = 'test_non_agnostic_logs2021-09-07.16:39:18.txt'\n",
    "\n",
    "df = pd.read_csv(root + file_name)\n",
    "df = df.fillna(0)\n",
    "\n",
    "df = df.astype({'iteration': 'int32', 'session': 'int32', 'obj_found': 'int32', 'obj_init': 'int32', 'run': 'int32'})\n",
    "\n",
    "df.head()"
   ]
  },
  {
   "cell_type": "code",
   "execution_count": 4,
   "metadata": {},
   "outputs": [
    {
     "data": {
      "text/html": [
       "<div>\n",
       "<style scoped>\n",
       "    .dataframe tbody tr th:only-of-type {\n",
       "        vertical-align: middle;\n",
       "    }\n",
       "\n",
       "    .dataframe tbody tr th {\n",
       "        vertical-align: top;\n",
       "    }\n",
       "\n",
       "    .dataframe thead th {\n",
       "        text-align: right;\n",
       "    }\n",
       "</style>\n",
       "<table border=\"1\" class=\"dataframe\">\n",
       "  <thead>\n",
       "    <tr style=\"text-align: right;\">\n",
       "      <th></th>\n",
       "      <th>iteration</th>\n",
       "      <th>session</th>\n",
       "      <th>run</th>\n",
       "      <th>obj_init</th>\n",
       "      <th>obj_found</th>\n",
       "      <th>diff_seg_reward</th>\n",
       "      <th>current_seg_reward</th>\n",
       "      <th>expected_reward</th>\n",
       "      <th>loss</th>\n",
       "    </tr>\n",
       "  </thead>\n",
       "  <tbody>\n",
       "    <tr>\n",
       "      <th>458</th>\n",
       "      <td>458</td>\n",
       "      <td>12</td>\n",
       "      <td>30</td>\n",
       "      <td>5</td>\n",
       "      <td>4</td>\n",
       "      <td>0.012658</td>\n",
       "      <td>0.609545</td>\n",
       "      <td>0.257149</td>\n",
       "      <td>0.018247</td>\n",
       "    </tr>\n",
       "    <tr>\n",
       "      <th>459</th>\n",
       "      <td>459</td>\n",
       "      <td>13</td>\n",
       "      <td>30</td>\n",
       "      <td>5</td>\n",
       "      <td>4</td>\n",
       "      <td>0.007948</td>\n",
       "      <td>0.617493</td>\n",
       "      <td>0.209388</td>\n",
       "      <td>0.037008</td>\n",
       "    </tr>\n",
       "    <tr>\n",
       "      <th>460</th>\n",
       "      <td>460</td>\n",
       "      <td>0</td>\n",
       "      <td>30</td>\n",
       "      <td>5</td>\n",
       "      <td>5</td>\n",
       "      <td>0.266495</td>\n",
       "      <td>0.883988</td>\n",
       "      <td>7.379341</td>\n",
       "      <td>6.482477</td>\n",
       "    </tr>\n",
       "    <tr>\n",
       "      <th>461</th>\n",
       "      <td>461</td>\n",
       "      <td>1</td>\n",
       "      <td>31</td>\n",
       "      <td>5</td>\n",
       "      <td>1</td>\n",
       "      <td>0.000000</td>\n",
       "      <td>-0.215205</td>\n",
       "      <td>5.045581</td>\n",
       "      <td>3.981433</td>\n",
       "    </tr>\n",
       "    <tr>\n",
       "      <th>462</th>\n",
       "      <td>462</td>\n",
       "      <td>2</td>\n",
       "      <td>31</td>\n",
       "      <td>5</td>\n",
       "      <td>3</td>\n",
       "      <td>0.497811</td>\n",
       "      <td>0.282606</td>\n",
       "      <td>24.922756</td>\n",
       "      <td>14.442772</td>\n",
       "    </tr>\n",
       "  </tbody>\n",
       "</table>\n",
       "</div>"
      ],
      "text/plain": [
       "     iteration  session  run  obj_init  obj_found  diff_seg_reward  \\\n",
       "458        458       12   30         5          4         0.012658   \n",
       "459        459       13   30         5          4         0.007948   \n",
       "460        460        0   30         5          5         0.266495   \n",
       "461        461        1   31         5          1         0.000000   \n",
       "462        462        2   31         5          3         0.497811   \n",
       "\n",
       "     current_seg_reward  expected_reward       loss  \n",
       "458            0.609545         0.257149   0.018247  \n",
       "459            0.617493         0.209388   0.037008  \n",
       "460            0.883988         7.379341   6.482477  \n",
       "461           -0.215205         5.045581   3.981433  \n",
       "462            0.282606        24.922756  14.442772  "
      ]
     },
     "execution_count": 4,
     "metadata": {},
     "output_type": "execute_result"
    }
   ],
   "source": [
    "df.tail()"
   ]
  },
  {
   "cell_type": "code",
   "execution_count": 5,
   "metadata": {},
   "outputs": [
    {
     "data": {
      "text/plain": [
       "[<matplotlib.lines.Line2D at 0x7fcdf6355e50>]"
      ]
     },
     "execution_count": 5,
     "metadata": {},
     "output_type": "execute_result"
    },
    {
     "data": {
      "image/png": "[encoded data removed]",
      "text/plain": [
       "<Figure size 432x288 with 1 Axes>"
      ]
     },
     "metadata": {
      "needs_background": "light"
     },
     "output_type": "display_data"
    }
   ],
   "source": [
    "plt.plot(df['iteration'], df['loss'])"
   ]
  },
  {
   "cell_type": "code",
   "execution_count": null,
   "metadata": {},
   "outputs": [],
   "source": []
  },
  {
   "cell_type": "code",
   "execution_count": 7,
   "metadata": {},
   "outputs": [
    {
     "data": {
      "text/plain": [
       "<BarContainer object of 15 artists>"
      ]
     },
     "execution_count": 7,
     "metadata": {},
     "output_type": "execute_result"
    },
    {
     "data": {
      "image/png": "[encoded data removed]",
      "text/plain": [
       "<Figure size 432x288 with 1 Axes>"
      ]
     },
     "metadata": {
      "needs_background": "light"
     },
     "output_type": "display_data"
    }
   ],
   "source": [
    "THR = 15\n",
    "INTERVALS = 100\n",
    "\n",
    "# temp = F.success_rate_on_run_intervals(df, THR, INTERVALS)\n",
    "# plt.bar(temp['run_interval'], temp['success_rate'])\n",
    "\n",
    "# def target_found_per_session(df):\n",
    "#     return df.loc[df['session'] != 0].groupby(df['session']).mean()\n",
    "\n",
    "# temp = F.target_found_per_session(df)\n",
    "# plt.bar(temp['session'], temp['obj_found'])\n",
    "\n",
    "def reward_diff_on_run_intervals(df, interval):\n",
    "    df['run_interval'] = df['run'] // interval\n",
    "    temp = df.groupby(df['run_interval']).apply(lambda x: x.groupby(df['run']))\n",
    "#     temp = temp.to_frame(name='success_rate').reset_index()\n",
    "\n",
    "    return temp\n",
    "\n",
    "temp = reward_diff_on_run_intervals(df, INTERVALS)"
   ]
  },
  {
   "cell_type": "code",
   "execution_count": null,
   "metadata": {},
   "outputs": [],
   "source": [
    "F.success_rate(df)\n",
    "# F.avg_successful_pushes(df)\n",
    "# F.sum_mask_rewards(df)"
   ]
  },
  {
   "cell_type": "code",
   "execution_count": null,
   "metadata": {},
   "outputs": [],
   "source": [
    "df[df['run'] == runs[run_index]][['obj_init']]"
   ]
  },
  {
   "cell_type": "code",
   "execution_count": null,
   "metadata": {},
   "outputs": [],
   "source": [
    "plt.plot(df[df['run'] == 13]['obj_found'])"
   ]
  },
  {
   "cell_type": "code",
   "execution_count": null,
   "metadata": {},
   "outputs": [],
   "source": [
    "df[df['run'] == runs[run_index]]"
   ]
  }
 ],
 "metadata": {
  "kernelspec": {
   "display_name": "big-data",
   "language": "python",
   "name": "big-data"
  },
  "language_info": {
   "codemirror_mode": {
    "name": "ipython",
    "version": 3
   },
   "file_extension": ".py",
   "mimetype": "text/x-python",
   "name": "python",
   "nbconvert_exporter": "python",
   "pygments_lexer": "ipython3",
   "version": "3.9.1"
  }
 },
 "nbformat": 4,
 "nbformat_minor": 4
}
